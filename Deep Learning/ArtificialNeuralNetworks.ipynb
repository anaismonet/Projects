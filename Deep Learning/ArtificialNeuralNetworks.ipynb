{
 "cells": [
  {
   "cell_type": "markdown",
   "metadata": {},
   "source": [
    "Artificial Neural Networks\n",
    "================\n",
    "\n",
    "------\n",
    "**Deep Learning for Computer Vision**\n",
    "\n",
    "(c) Research Group CAMMA, University of Strasbourg\n",
    "\n",
    "Website: http://camma.u-strasbg.fr/\n",
    "\n",
    "-----"
   ]
  },
  {
   "cell_type": "markdown",
   "metadata": {},
   "source": [
    "### About this notebook\n",
    "\n",
    "- **Objectives**: \n",
    "  - Train and test simple ANNs\n",
    "  - Experiment with underfitting / overfitting\n",
    "  - Perform experiments on Spiral3 and MNIST"
   ]
  },
  {
   "cell_type": "markdown",
   "metadata": {},
   "source": [
    "### Neural Networks for Classification of Spiral3 Toy Dataset"
   ]
  },
  {
   "cell_type": "markdown",
   "metadata": {},
   "source": [
    "Import libraries:"
   ]
  },
  {
   "cell_type": "code",
   "execution_count": 17,
   "metadata": {},
   "outputs": [],
   "source": [
    "import numpy as np\n",
    "import matplotlib.pyplot as plt\n",
    "import pickle\n",
    "import gzip\n",
    "import os"
   ]
  },
  {
   "cell_type": "markdown",
   "metadata": {},
   "source": [
    "Create and visualize the dataset:"
   ]
  },
  {
   "cell_type": "code",
   "execution_count": 10,
   "metadata": {},
   "outputs": [],
   "source": [
    "def toy_spiral3(N=200, K=3, D=2):\n",
    "  np.random.seed(0)\n",
    "  #N: number of points per class\n",
    "  #D: dimensionality\n",
    "  #K: number of classes\n",
    "  X = np.zeros((N*K,D))\n",
    "  y = np.zeros(N*K, dtype='uint8')\n",
    "  for j in range(K):\n",
    "    ix = range(N*j,N*(j+1))\n",
    "    r = np.linspace(0.0,1,N) # radius\n",
    "    t = 5 + np.linspace(j*4,(j+1)*4,N) + np.random.randn(N)*0.3 # theta\n",
    "    X[ix] = np.c_[r*np.sin(t), r*np.cos(t)]\n",
    "    y[ix] = j\n",
    "  return X,y"
   ]
  },
  {
   "cell_type": "code",
   "execution_count": 11,
   "metadata": {},
   "outputs": [],
   "source": [
    "def toy_plot(X,y):  \n",
    "  fig = plt.figure()\n",
    "  plt.scatter(X[:, 0], X[:, 1], c=y, s=40, cmap=plt.cm.Spectral)\n",
    "  plt.xlim([-1.5,1.5])\n",
    "  plt.ylim([-1.5,1.5])"
   ]
  },
  {
   "cell_type": "code",
   "execution_count": 12,
   "metadata": {},
   "outputs": [
    {
     "data": {
      "image/png": "[encoded data removed]",
      "text/plain": [
       "<Figure size 432x288 with 1 Axes>"
      ]
     },
     "metadata": {
      "needs_background": "light"
     },
     "output_type": "display_data"
    }
   ],
   "source": [
    "np.random.seed(999) #For reproducibility\n",
    "[X,y] = toy_spiral3(200)\n",
    "toy_plot(X,y)"
   ]
  },
  {
   "cell_type": "markdown",
   "metadata": {},
   "source": [
    "**Code for training and inference of a 2-layer neural network**"
   ]
  },
  {
   "cell_type": "code",
   "execution_count": 13,
   "metadata": {},
   "outputs": [],
   "source": [
    "class NN2LClassifier:\n",
    "\n",
    "  def __init__(self, num_hidden=100, nclasses=3, ndims=2):\n",
    "    self.nclasses = nclasses\n",
    "    self.ndims = ndims\n",
    "    self.h = num_hidden # size of hidden layer\n",
    "    self.W1 = None\n",
    "    self.b1 = None\n",
    "    self.W2 = None\n",
    "    self.b2 = None\n",
    "\n",
    "  # Train the classifier's parameters\n",
    "  def train(self, X, y, learning_rate=1e-0, reg_weight=1e-3, num_iters=10000, verbose=True):\n",
    "    #Hyperparameters\n",
    "    #learning_rate: gradient descent step size\n",
    "    #reg_weight: regularization   \n",
    "    N = X.shape[0] #number of data points\n",
    "  \n",
    "    # initialize parameters randomly\n",
    "    self.W1 = 0.01 *np.random.randn(self.ndims,self.h) #NOTE: much faster if you remove 0.01 here\n",
    "    self.b1 = np.zeros((1,self.h))\n",
    "    self.W2 = 0.01 *np.random.randn(self.h,self.nclasses)\n",
    "    self.b2 = np.zeros((1,self.nclasses))\n",
    "\n",
    "    #Gradient descent \n",
    "    for i in range(num_iters):\n",
    "  \n",
    "      # evaluate class scores, [N x K]\n",
    "      hidden = np.maximum(0, np.dot(X, self.W1) + self.b1) #ReLU activation\n",
    "      scores = np.dot(hidden, self.W2) + self.b2\n",
    "  \n",
    "      # compute the class probabilities\n",
    "      expo = np.exp(scores)\n",
    "      softm = expo / np.sum(expo, axis=1, keepdims=True) # [N x K]\n",
    "  \n",
    "      # compute the loss: average cross-entropy loss and regularization\n",
    "      logs = -np.log(softm[range(N),y])\n",
    "      data_loss = np.sum(logs)/N\n",
    "      reg_loss = 0.5*reg_weight*np.sum(self.W1*self.W1) + 0.5*reg_weight*np.sum(self.W2*self.W2)\n",
    "      loss = data_loss + reg_loss\n",
    "\n",
    "      # compute the gradient on scores\n",
    "      dscores = softm\n",
    "      dscores[range(N),y] -= 1\n",
    "      dscores /= N\n",
    "  \n",
    "      # backpropate the gradient to the parameters\n",
    "      # first backprop into parameters W2 and b2\n",
    "      dW2 = np.dot(hidden.T, dscores)\n",
    "      db2 = np.sum(dscores, axis=0, keepdims=True)\n",
    "      # next backprop into hidden layer\n",
    "      dhidden = np.dot(dscores, self.W2.T)\n",
    "      # backprop the ReLU non-linearity\n",
    "      dhidden[hidden <= 0] = 0\n",
    "      # finally into W1,b1\n",
    "      dW1 = np.dot(X.T, dhidden)\n",
    "      db1 = np.sum(dhidden, axis=0, keepdims=True)\n",
    "  \n",
    "      # add regularization gradient contribution\n",
    "      dW2 += reg_weight * self.W2\n",
    "      dW1 += reg_weight * self.W1\n",
    "  \n",
    "      # perform a parameter update\n",
    "      self.W1 += -learning_rate * dW1\n",
    "      self.b1 += -learning_rate * db1\n",
    "      self.W2 += -learning_rate * dW2\n",
    "      self.b2 += -learning_rate * db2\n",
    "      \n",
    "      if verbose and (i % 50 == 0):   #Print loss every few steps\n",
    "        print(\"iteration %d: loss=%f ; train_acc:%f\" % (i, loss, self.accuracy(X,y)) )\n",
    "      \n",
    "    return self.accuracy(X,y)\n",
    "\n",
    "  # predict the classes for all input\n",
    "  def predict(self,X):\n",
    "      scores = np.dot(np.maximum(0, np.dot(X, self.W1) + self.b1),self.W2) + self.b2\n",
    "      predicted_classes = np.argmax(scores, axis=1)\n",
    "      return predicted_classes\n",
    "      \n",
    "  # compute accuracy on x \n",
    "  def accuracy(self,X,y):\n",
    "      predicted_classes = self.predict(X)\n",
    "      accuracy = np.mean(predicted_classes == y)\n",
    "      #print 'training accuracy: %.2f' % (accuracy)\n",
    "      return accuracy\n"
   ]
  },
  {
   "cell_type": "markdown",
   "metadata": {},
   "source": [
    "Training of the 2-layer neural network on the Spiral3 dataset "
   ]
  },
  {
   "cell_type": "code",
   "execution_count": 14,
   "metadata": {},
   "outputs": [
    {
     "name": "stdout",
     "output_type": "stream",
     "text": [
      "iteration 0: loss=1.098645 ; train_acc:0.521667\n",
      "iteration 50: loss=0.765728 ; train_acc:0.551667\n",
      "iteration 100: loss=0.723876 ; train_acc:0.566667\n",
      "iteration 150: loss=0.701637 ; train_acc:0.581667\n",
      "iteration 200: loss=0.730749 ; train_acc:0.638333\n",
      "iteration 250: loss=0.725585 ; train_acc:0.661667\n",
      "iteration 300: loss=0.694860 ; train_acc:0.668333\n",
      "iteration 350: loss=0.607417 ; train_acc:0.761667\n",
      "iteration 400: loss=0.516494 ; train_acc:0.786667\n",
      "iteration 450: loss=0.496246 ; train_acc:0.808333\n",
      "iteration 500: loss=0.447666 ; train_acc:0.826667\n",
      "iteration 550: loss=0.425136 ; train_acc:0.860000\n",
      "iteration 600: loss=0.407047 ; train_acc:0.865000\n",
      "iteration 650: loss=0.387271 ; train_acc:0.875000\n",
      "iteration 700: loss=0.376987 ; train_acc:0.885000\n",
      "iteration 750: loss=0.363319 ; train_acc:0.898333\n",
      "iteration 800: loss=0.354779 ; train_acc:0.903333\n",
      "iteration 850: loss=0.349501 ; train_acc:0.908333\n",
      "iteration 900: loss=0.343807 ; train_acc:0.915000\n",
      "iteration 950: loss=0.337951 ; train_acc:0.915000\n",
      "iteration 1000: loss=0.334060 ; train_acc:0.925000\n",
      "iteration 1050: loss=0.330641 ; train_acc:0.930000\n",
      "iteration 1100: loss=0.328389 ; train_acc:0.928333\n",
      "iteration 1150: loss=0.324517 ; train_acc:0.931667\n",
      "iteration 1200: loss=0.320847 ; train_acc:0.933333\n",
      "iteration 1250: loss=0.319173 ; train_acc:0.935000\n",
      "iteration 1300: loss=0.316488 ; train_acc:0.935000\n",
      "iteration 1350: loss=0.313635 ; train_acc:0.941667\n",
      "iteration 1400: loss=0.311589 ; train_acc:0.943333\n",
      "iteration 1450: loss=0.309008 ; train_acc:0.945000\n",
      "iteration 1500: loss=0.308115 ; train_acc:0.945000\n",
      "iteration 1550: loss=0.305003 ; train_acc:0.948333\n",
      "iteration 1600: loss=0.302754 ; train_acc:0.950000\n",
      "iteration 1650: loss=0.302748 ; train_acc:0.953333\n",
      "iteration 1700: loss=0.311475 ; train_acc:0.940000\n",
      "iteration 1750: loss=0.300735 ; train_acc:0.953333\n",
      "iteration 1800: loss=0.285504 ; train_acc:0.971667\n",
      "iteration 1850: loss=0.300074 ; train_acc:0.948333\n",
      "iteration 1900: loss=0.286789 ; train_acc:0.966667\n",
      "iteration 1950: loss=0.282848 ; train_acc:0.970000\n",
      "iteration 2000: loss=0.281358 ; train_acc:0.978333\n",
      "iteration 2050: loss=0.322753 ; train_acc:0.931667\n",
      "iteration 2100: loss=0.282248 ; train_acc:0.973333\n",
      "iteration 2150: loss=0.279477 ; train_acc:0.975000\n",
      "iteration 2200: loss=0.278535 ; train_acc:0.975000\n",
      "iteration 2250: loss=0.608204 ; train_acc:0.730000\n",
      "iteration 2300: loss=0.280580 ; train_acc:0.976667\n",
      "iteration 2350: loss=0.277525 ; train_acc:0.976667\n",
      "iteration 2400: loss=0.277049 ; train_acc:0.971667\n",
      "iteration 2450: loss=0.407156 ; train_acc:0.860000\n",
      "iteration 2500: loss=0.278731 ; train_acc:0.978333\n",
      "iteration 2550: loss=0.275965 ; train_acc:0.978333\n",
      "iteration 2600: loss=0.275503 ; train_acc:0.975000\n",
      "iteration 2650: loss=0.349202 ; train_acc:0.910000\n",
      "iteration 2700: loss=0.278413 ; train_acc:0.976667\n",
      "iteration 2750: loss=0.275233 ; train_acc:0.980000\n",
      "iteration 2800: loss=0.274351 ; train_acc:0.978333\n",
      "iteration 2850: loss=0.280970 ; train_acc:0.965000\n",
      "iteration 2900: loss=0.280531 ; train_acc:0.976667\n",
      "iteration 2950: loss=0.275315 ; train_acc:0.980000\n",
      "training accuracy: 0.98\n"
     ]
    }
   ],
   "source": [
    "classifier = NN2LClassifier(num_hidden=64)\n",
    "training_acc = classifier.train(X,y,num_iters=3000,learning_rate=1,reg_weight=1e-3)\n",
    "print('training accuracy: %.2f' %training_acc)"
   ]
  },
  {
   "cell_type": "code",
   "execution_count": 15,
   "metadata": {},
   "outputs": [
    {
     "data": {
      "text/plain": [
       "Text(0, 0.5, 'Training accuracy')"
      ]
     },
     "execution_count": 15,
     "metadata": {},
     "output_type": "execute_result"
    },
    {
     "data": {
      "image/png": "[encoded data removed]",
      "text/plain": [
       "<Figure size 432x288 with 1 Axes>"
      ]
     },
     "metadata": {
      "needs_background": "light"
     },
     "output_type": "display_data"
    }
   ],
   "source": [
    "nb_iterations = 11\n",
    "training_acc = np.zeros(nb_iterations)\n",
    "\n",
    "for i in range(nb_iterations): \n",
    "  classifier = NN2LClassifier(num_hidden = 2**i)\n",
    "  training_acc[i] = classifier.train(X,y,num_iters=3000,learning_rate=1,reg_weight=1e-3, verbose=False)\n",
    "\n",
    "plt.plot(training_acc)\n",
    "plt.xticks([i for i in range(0,nb_iterations)])\n",
    "plt.xlabel('Number of hidden nodes (2^i)')\n",
    "plt.ylabel('Training accuracy')"
   ]
  },
  {
   "cell_type": "markdown",
   "metadata": {},
   "source": [
    "### Classification on MNIST"
   ]
  },
  {
   "cell_type": "markdown",
   "metadata": {},
   "source": [
    "Loading the MNIST dataset (images of size 28x28):"
   ]
  },
  {
   "cell_type": "code",
   "execution_count": 19,
   "metadata": {},
   "outputs": [
    {
     "name": "stdout",
     "output_type": "stream",
     "text": [
      "(50000, 784)\n",
      "(10000, 784)\n"
     ]
    }
   ],
   "source": [
    "path = os.getcwd() \n",
    "f = gzip.open(path+'/mnist.pkl.gz', 'rb')\n",
    "train_set, valid_set, test_set = pickle.load(f,encoding='bytes')\n",
    "f.close()\n",
    "\n",
    "X_train,y_train = train_set\n",
    "X_test,y_test = test_set\n",
    "\n",
    "inds=np.arange(0,X_train.shape[0])\n",
    "np.random.shuffle(inds)\n",
    "X_train,y_train = X_train[inds],y_train[inds] \n",
    "\n",
    "inds=np.arange(0,X_test.shape[0])\n",
    "np.random.shuffle(inds)\n",
    "X_test,y_test = X_test[inds],y_test[inds] \n",
    "\n",
    "print(X_train.shape)\n",
    "print(X_test.shape)"
   ]
  },
  {
   "cell_type": "markdown",
   "metadata": {},
   "source": [
    "Training of the classifier on MNIST dataset:"
   ]
  },
  {
   "cell_type": "code",
   "execution_count": 20,
   "metadata": {},
   "outputs": [
    {
     "name": "stdout",
     "output_type": "stream",
     "text": [
      "iteration 0: loss=2.305921 ; train_acc:0.347140\n",
      "iteration 50: loss=0.594064 ; train_acc:0.850260\n",
      "iteration 100: loss=0.352126 ; train_acc:0.912480\n",
      "iteration 150: loss=0.335262 ; train_acc:0.924560\n",
      "iteration 200: loss=0.329126 ; train_acc:0.912600\n",
      "iteration 250: loss=0.253397 ; train_acc:0.946180\n",
      "iteration 300: loss=0.242472 ; train_acc:0.949640\n",
      "iteration 350: loss=0.271987 ; train_acc:0.934660\n",
      "iteration 400: loss=0.220808 ; train_acc:0.956460\n",
      "iteration 450: loss=0.212413 ; train_acc:0.959600\n",
      "iteration 500: loss=0.205883 ; train_acc:0.962200\n",
      "iteration 550: loss=0.222668 ; train_acc:0.958160\n",
      "iteration 600: loss=0.205258 ; train_acc:0.963260\n",
      "iteration 650: loss=0.390037 ; train_acc:0.912480\n",
      "iteration 700: loss=0.259373 ; train_acc:0.953120\n",
      "iteration 750: loss=0.253063 ; train_acc:0.954320\n",
      "iteration 800: loss=0.233449 ; train_acc:0.960400\n",
      "iteration 850: loss=0.224191 ; train_acc:0.962800\n",
      "iteration 900: loss=0.220142 ; train_acc:0.963380\n",
      "iteration 950: loss=0.208803 ; train_acc:0.966800\n",
      "training accuracy: 0.97\n"
     ]
    }
   ],
   "source": [
    "classifier = NN2LClassifier(nclasses=10,ndims=784)\n",
    "training_acc = classifier.train(X_train,y_train, num_iters=1000)\n",
    "print('training accuracy: %.2f' %training_acc)"
   ]
  },
  {
   "cell_type": "markdown",
   "metadata": {},
   "source": [
    "Testing on the test set:"
   ]
  },
  {
   "cell_type": "code",
   "execution_count": 21,
   "metadata": {},
   "outputs": [
    {
     "name": "stdout",
     "output_type": "stream",
     "text": [
      "test accuracy: 0.96\n"
     ]
    }
   ],
   "source": [
    "test_acc = classifier.accuracy(X_test,y_test)\n",
    "print('test accuracy: %.2f' %test_acc)"
   ]
  }
 ],
 "metadata": {
  "kernelspec": {
   "display_name": "Python 3",
   "language": "python",
   "name": "python3"
  },
  "language_info": {
   "codemirror_mode": {
    "name": "ipython",
    "version": 3
   },
   "file_extension": ".py",
   "mimetype": "text/x-python",
   "name": "python",
   "nbconvert_exporter": "python",
   "pygments_lexer": "ipython3",
   "version": "3.7.4"
  }
 },
 "nbformat": 4,
 "nbformat_minor": 4
}
